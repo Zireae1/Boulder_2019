{
 "cells": [
  {
   "cell_type": "code",
   "execution_count": 82,
   "metadata": {},
   "outputs": [],
   "source": [
    "import numpy as np\n",
    "import torch\n",
    "device = \"cpu\""
   ]
  },
  {
   "cell_type": "code",
   "execution_count": 83,
   "metadata": {},
   "outputs": [],
   "source": [
    "N = 50\n",
    "R = []\n",
    "y_pred = []\n",
    "idx = 1\n",
    "R.append([0.0, 0.25, 0.5, 0.6, 0.7, 0.75, 0.8, 0.85, 0.9, 1.0])\n",
    "\n",
    "x = torch.tensor(np.genfromtxt(\"x_{}.csv\".format(N), delimiter=','), device=device).float()\n",
    "y = torch.tensor(np.genfromtxt(\"y_{}.csv\".format(N), delimiter=','), device=device).float()\n",
    "\n",
    "w1 = torch.tensor(np.loadtxt(\"weights1_{}_{}.dat\".format(N, R[0][idx])), dtype=torch.float32, device=device)\n",
    "w2 = torch.tensor(np.loadtxt(\"weights2_{}_{}.dat\".format(N, R[0][idx])), dtype=torch.float32, device=device)\n",
    "b1 = torch.tensor(np.loadtxt(\"bias1_{}_{}.dat\".format(N, R[0][idx])), dtype=torch.float32, device=device)\n",
    "b2 = torch.tensor(np.loadtxt(\"bias2_{}_{}.dat\".format(N, R[0][idx])), dtype=torch.float32, device=device)"
   ]
  },
  {
   "cell_type": "code",
   "execution_count": 86,
   "metadata": {},
   "outputs": [],
   "source": [
    "# Define nonlinear activation function\n",
    "def f(x): # nonlinear conversion function to binary\n",
    "    return x.sigmoid()#tanh().add(1).div(2)"
   ]
  },
  {
   "cell_type": "code",
   "execution_count": 87,
   "metadata": {},
   "outputs": [],
   "source": [
    "y_pred = f(f(x.mm(w1).add(b1)).mm(w2).add(b2))"
   ]
  },
  {
   "cell_type": "code",
   "execution_count": null,
   "metadata": {},
   "outputs": [],
   "source": []
  }
 ],
 "metadata": {
  "kernelspec": {
   "display_name": "Python 3",
   "language": "python",
   "name": "python3"
  },
  "language_info": {
   "codemirror_mode": {
    "name": "ipython",
    "version": 3
   },
   "file_extension": ".py",
   "mimetype": "text/x-python",
   "name": "python",
   "nbconvert_exporter": "python",
   "pygments_lexer": "ipython3",
   "version": "3.7.0"
  }
 },
 "nbformat": 4,
 "nbformat_minor": 2
}
